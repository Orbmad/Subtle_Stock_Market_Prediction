{
 "cells": [
  {
   "cell_type": "markdown",
   "id": "6a9f4046",
   "metadata": {},
   "source": [
    "# Preparing the data"
   ]
  },
  {
   "cell_type": "code",
   "execution_count": 3,
   "id": "5b0ad1d7",
   "metadata": {},
   "outputs": [],
   "source": [
    "import pandas as pd\n",
    "import numpy as np\n",
    "import ml_utils as mlu\n",
    "import ml_utils_classification as uc\n",
    "import matplotlib.pyplot as plt\n",
    "import yfinance as yf\n",
    "import warnings\n",
    "warnings.filterwarnings('ignore')"
   ]
  },
  {
   "cell_type": "code",
   "execution_count": 4,
   "id": "f581c0b9",
   "metadata": {},
   "outputs": [],
   "source": [
    "symbol = 'AAPL'\n",
    "aapl = yf.Ticker(symbol)"
   ]
  },
  {
   "cell_type": "code",
   "execution_count": 5,
   "id": "cd92305c",
   "metadata": {},
   "outputs": [
    {
     "ename": "YFRateLimitError",
     "evalue": "Too Many Requests. Rate limited. Try after a while.",
     "output_type": "error",
     "traceback": [
      "\u001b[1;31m---------------------------------------------------------------------------\u001b[0m",
      "\u001b[1;31mYFRateLimitError\u001b[0m                          Traceback (most recent call last)",
      "Cell \u001b[1;32mIn[5], line 1\u001b[0m\n\u001b[1;32m----> 1\u001b[0m data \u001b[38;5;241m=\u001b[39m aapl\u001b[38;5;241m.\u001b[39mhistory(start\u001b[38;5;241m=\u001b[39m\u001b[38;5;124m\"\u001b[39m\u001b[38;5;124m2014-05-01\u001b[39m\u001b[38;5;124m\"\u001b[39m, end\u001b[38;5;241m=\u001b[39m\u001b[38;5;124m\"\u001b[39m\u001b[38;5;124m2025-05-12\u001b[39m\u001b[38;5;124m\"\u001b[39m, actions\u001b[38;5;241m=\u001b[39m\u001b[38;5;28;01mFalse\u001b[39;00m)\n",
      "File \u001b[1;32mc:\\Users\\user\\anaconda3\\Lib\\site-packages\\yfinance\\utils.py:104\u001b[0m, in \u001b[0;36mlog_indent_decorator.<locals>.wrapper\u001b[1;34m(*args, **kwargs)\u001b[0m\n\u001b[0;32m    101\u001b[0m logger\u001b[38;5;241m.\u001b[39mdebug(\u001b[38;5;124mf\u001b[39m\u001b[38;5;124m'\u001b[39m\u001b[38;5;124mEntering \u001b[39m\u001b[38;5;132;01m{\u001b[39;00mfunc\u001b[38;5;241m.\u001b[39m\u001b[38;5;18m__name__\u001b[39m\u001b[38;5;132;01m}\u001b[39;00m\u001b[38;5;124m()\u001b[39m\u001b[38;5;124m'\u001b[39m)\n\u001b[0;32m    103\u001b[0m \u001b[38;5;28;01mwith\u001b[39;00m IndentationContext():\n\u001b[1;32m--> 104\u001b[0m     result \u001b[38;5;241m=\u001b[39m func(\u001b[38;5;241m*\u001b[39margs, \u001b[38;5;241m*\u001b[39m\u001b[38;5;241m*\u001b[39mkwargs)\n\u001b[0;32m    106\u001b[0m logger\u001b[38;5;241m.\u001b[39mdebug(\u001b[38;5;124mf\u001b[39m\u001b[38;5;124m'\u001b[39m\u001b[38;5;124mExiting \u001b[39m\u001b[38;5;132;01m{\u001b[39;00mfunc\u001b[38;5;241m.\u001b[39m\u001b[38;5;18m__name__\u001b[39m\u001b[38;5;132;01m}\u001b[39;00m\u001b[38;5;124m()\u001b[39m\u001b[38;5;124m'\u001b[39m)\n\u001b[0;32m    107\u001b[0m \u001b[38;5;28;01mreturn\u001b[39;00m result\n",
      "File \u001b[1;32mc:\\Users\\user\\anaconda3\\Lib\\site-packages\\yfinance\\base.py:80\u001b[0m, in \u001b[0;36mTickerBase.history\u001b[1;34m(self, *args, **kwargs)\u001b[0m\n\u001b[0;32m     78\u001b[0m \u001b[38;5;129m@utils\u001b[39m\u001b[38;5;241m.\u001b[39mlog_indent_decorator\n\u001b[0;32m     79\u001b[0m \u001b[38;5;28;01mdef\u001b[39;00m \u001b[38;5;21mhistory\u001b[39m(\u001b[38;5;28mself\u001b[39m, \u001b[38;5;241m*\u001b[39margs, \u001b[38;5;241m*\u001b[39m\u001b[38;5;241m*\u001b[39mkwargs) \u001b[38;5;241m-\u001b[39m\u001b[38;5;241m>\u001b[39m pd\u001b[38;5;241m.\u001b[39mDataFrame:\n\u001b[1;32m---> 80\u001b[0m     \u001b[38;5;28;01mreturn\u001b[39;00m \u001b[38;5;28mself\u001b[39m\u001b[38;5;241m.\u001b[39m_lazy_load_price_history()\u001b[38;5;241m.\u001b[39mhistory(\u001b[38;5;241m*\u001b[39margs, \u001b[38;5;241m*\u001b[39m\u001b[38;5;241m*\u001b[39mkwargs)\n",
      "File \u001b[1;32mc:\\Users\\user\\anaconda3\\Lib\\site-packages\\yfinance\\utils.py:104\u001b[0m, in \u001b[0;36mlog_indent_decorator.<locals>.wrapper\u001b[1;34m(*args, **kwargs)\u001b[0m\n\u001b[0;32m    101\u001b[0m logger\u001b[38;5;241m.\u001b[39mdebug(\u001b[38;5;124mf\u001b[39m\u001b[38;5;124m'\u001b[39m\u001b[38;5;124mEntering \u001b[39m\u001b[38;5;132;01m{\u001b[39;00mfunc\u001b[38;5;241m.\u001b[39m\u001b[38;5;18m__name__\u001b[39m\u001b[38;5;132;01m}\u001b[39;00m\u001b[38;5;124m()\u001b[39m\u001b[38;5;124m'\u001b[39m)\n\u001b[0;32m    103\u001b[0m \u001b[38;5;28;01mwith\u001b[39;00m IndentationContext():\n\u001b[1;32m--> 104\u001b[0m     result \u001b[38;5;241m=\u001b[39m func(\u001b[38;5;241m*\u001b[39margs, \u001b[38;5;241m*\u001b[39m\u001b[38;5;241m*\u001b[39mkwargs)\n\u001b[0;32m    106\u001b[0m logger\u001b[38;5;241m.\u001b[39mdebug(\u001b[38;5;124mf\u001b[39m\u001b[38;5;124m'\u001b[39m\u001b[38;5;124mExiting \u001b[39m\u001b[38;5;132;01m{\u001b[39;00mfunc\u001b[38;5;241m.\u001b[39m\u001b[38;5;18m__name__\u001b[39m\u001b[38;5;132;01m}\u001b[39;00m\u001b[38;5;124m()\u001b[39m\u001b[38;5;124m'\u001b[39m)\n\u001b[0;32m    107\u001b[0m \u001b[38;5;28;01mreturn\u001b[39;00m result\n",
      "File \u001b[1;32mc:\\Users\\user\\anaconda3\\Lib\\site-packages\\yfinance\\scrapers\\history.py:175\u001b[0m, in \u001b[0;36mPriceHistory.history\u001b[1;34m(self, period, interval, start, end, prepost, actions, auto_adjust, back_adjust, repair, keepna, proxy, rounding, timeout, raise_errors)\u001b[0m\n\u001b[0;32m    173\u001b[0m         get_fn \u001b[38;5;241m=\u001b[39m \u001b[38;5;28mself\u001b[39m\u001b[38;5;241m.\u001b[39m_data\u001b[38;5;241m.\u001b[39mcache_get\n\u001b[0;32m    174\u001b[0m \u001b[38;5;28;01mtry\u001b[39;00m:\n\u001b[1;32m--> 175\u001b[0m     data \u001b[38;5;241m=\u001b[39m get_fn(\n\u001b[0;32m    176\u001b[0m         url\u001b[38;5;241m=\u001b[39murl,\n\u001b[0;32m    177\u001b[0m         params\u001b[38;5;241m=\u001b[39mparams,\n\u001b[0;32m    178\u001b[0m         proxy\u001b[38;5;241m=\u001b[39mproxy,\n\u001b[0;32m    179\u001b[0m         timeout\u001b[38;5;241m=\u001b[39mtimeout\n\u001b[0;32m    180\u001b[0m     )\n\u001b[0;32m    181\u001b[0m     \u001b[38;5;28;01mif\u001b[39;00m \u001b[38;5;124m\"\u001b[39m\u001b[38;5;124mWill be right back\u001b[39m\u001b[38;5;124m\"\u001b[39m \u001b[38;5;129;01min\u001b[39;00m data\u001b[38;5;241m.\u001b[39mtext \u001b[38;5;129;01mor\u001b[39;00m data \u001b[38;5;129;01mis\u001b[39;00m \u001b[38;5;28;01mNone\u001b[39;00m:\n\u001b[0;32m    182\u001b[0m         \u001b[38;5;28;01mraise\u001b[39;00m \u001b[38;5;167;01mRuntimeError\u001b[39;00m(\u001b[38;5;124m\"\u001b[39m\u001b[38;5;124m*** YAHOO! FINANCE IS CURRENTLY DOWN! ***\u001b[39m\u001b[38;5;130;01m\\n\u001b[39;00m\u001b[38;5;124m\"\u001b[39m\n\u001b[0;32m    183\u001b[0m                            \u001b[38;5;124m\"\u001b[39m\u001b[38;5;124mOur engineers are working quickly to resolve \u001b[39m\u001b[38;5;124m\"\u001b[39m\n\u001b[0;32m    184\u001b[0m                            \u001b[38;5;124m\"\u001b[39m\u001b[38;5;124mthe issue. Thank you for your patience.\u001b[39m\u001b[38;5;124m\"\u001b[39m)\n",
      "File \u001b[1;32mc:\\Users\\user\\anaconda3\\Lib\\site-packages\\yfinance\\data.py:32\u001b[0m, in \u001b[0;36mlru_cache_freezeargs.<locals>.wrapped\u001b[1;34m(*args, **kwargs)\u001b[0m\n\u001b[0;32m     30\u001b[0m args \u001b[38;5;241m=\u001b[39m \u001b[38;5;28mtuple\u001b[39m([\u001b[38;5;28mtuple\u001b[39m(arg) \u001b[38;5;28;01mif\u001b[39;00m \u001b[38;5;28misinstance\u001b[39m(arg, \u001b[38;5;28mlist\u001b[39m) \u001b[38;5;28;01melse\u001b[39;00m arg \u001b[38;5;28;01mfor\u001b[39;00m arg \u001b[38;5;129;01min\u001b[39;00m args])\n\u001b[0;32m     31\u001b[0m kwargs \u001b[38;5;241m=\u001b[39m {k: \u001b[38;5;28mtuple\u001b[39m(v) \u001b[38;5;28;01mif\u001b[39;00m \u001b[38;5;28misinstance\u001b[39m(v, \u001b[38;5;28mlist\u001b[39m) \u001b[38;5;28;01melse\u001b[39;00m v \u001b[38;5;28;01mfor\u001b[39;00m k, v \u001b[38;5;129;01min\u001b[39;00m kwargs\u001b[38;5;241m.\u001b[39mitems()}\n\u001b[1;32m---> 32\u001b[0m \u001b[38;5;28;01mreturn\u001b[39;00m func(\u001b[38;5;241m*\u001b[39margs, \u001b[38;5;241m*\u001b[39m\u001b[38;5;241m*\u001b[39mkwargs)\n",
      "File \u001b[1;32mc:\\Users\\user\\anaconda3\\Lib\\site-packages\\yfinance\\data.py:416\u001b[0m, in \u001b[0;36mYfData.cache_get\u001b[1;34m(self, url, user_agent_headers, params, proxy, timeout)\u001b[0m\n\u001b[0;32m    413\u001b[0m \u001b[38;5;129m@lru_cache_freezeargs\u001b[39m\n\u001b[0;32m    414\u001b[0m \u001b[38;5;129m@lru_cache\u001b[39m(maxsize\u001b[38;5;241m=\u001b[39mcache_maxsize)\n\u001b[0;32m    415\u001b[0m \u001b[38;5;28;01mdef\u001b[39;00m \u001b[38;5;21mcache_get\u001b[39m(\u001b[38;5;28mself\u001b[39m, url, user_agent_headers\u001b[38;5;241m=\u001b[39m\u001b[38;5;28;01mNone\u001b[39;00m, params\u001b[38;5;241m=\u001b[39m\u001b[38;5;28;01mNone\u001b[39;00m, proxy\u001b[38;5;241m=\u001b[39m\u001b[38;5;28;01mNone\u001b[39;00m, timeout\u001b[38;5;241m=\u001b[39m\u001b[38;5;241m30\u001b[39m):\n\u001b[1;32m--> 416\u001b[0m     \u001b[38;5;28;01mreturn\u001b[39;00m \u001b[38;5;28mself\u001b[39m\u001b[38;5;241m.\u001b[39mget(url, user_agent_headers, params, proxy, timeout)\n",
      "File \u001b[1;32mc:\\Users\\user\\anaconda3\\Lib\\site-packages\\yfinance\\utils.py:104\u001b[0m, in \u001b[0;36mlog_indent_decorator.<locals>.wrapper\u001b[1;34m(*args, **kwargs)\u001b[0m\n\u001b[0;32m    101\u001b[0m logger\u001b[38;5;241m.\u001b[39mdebug(\u001b[38;5;124mf\u001b[39m\u001b[38;5;124m'\u001b[39m\u001b[38;5;124mEntering \u001b[39m\u001b[38;5;132;01m{\u001b[39;00mfunc\u001b[38;5;241m.\u001b[39m\u001b[38;5;18m__name__\u001b[39m\u001b[38;5;132;01m}\u001b[39;00m\u001b[38;5;124m()\u001b[39m\u001b[38;5;124m'\u001b[39m)\n\u001b[0;32m    103\u001b[0m \u001b[38;5;28;01mwith\u001b[39;00m IndentationContext():\n\u001b[1;32m--> 104\u001b[0m     result \u001b[38;5;241m=\u001b[39m func(\u001b[38;5;241m*\u001b[39margs, \u001b[38;5;241m*\u001b[39m\u001b[38;5;241m*\u001b[39mkwargs)\n\u001b[0;32m    106\u001b[0m logger\u001b[38;5;241m.\u001b[39mdebug(\u001b[38;5;124mf\u001b[39m\u001b[38;5;124m'\u001b[39m\u001b[38;5;124mExiting \u001b[39m\u001b[38;5;132;01m{\u001b[39;00mfunc\u001b[38;5;241m.\u001b[39m\u001b[38;5;18m__name__\u001b[39m\u001b[38;5;132;01m}\u001b[39;00m\u001b[38;5;124m()\u001b[39m\u001b[38;5;124m'\u001b[39m)\n\u001b[0;32m    107\u001b[0m \u001b[38;5;28;01mreturn\u001b[39;00m result\n",
      "File \u001b[1;32mc:\\Users\\user\\anaconda3\\Lib\\site-packages\\yfinance\\data.py:347\u001b[0m, in \u001b[0;36mYfData.get\u001b[1;34m(self, url, user_agent_headers, params, proxy, timeout)\u001b[0m\n\u001b[0;32m    345\u001b[0m \u001b[38;5;129m@utils\u001b[39m\u001b[38;5;241m.\u001b[39mlog_indent_decorator\n\u001b[0;32m    346\u001b[0m \u001b[38;5;28;01mdef\u001b[39;00m \u001b[38;5;21mget\u001b[39m(\u001b[38;5;28mself\u001b[39m, url, user_agent_headers\u001b[38;5;241m=\u001b[39m\u001b[38;5;28;01mNone\u001b[39;00m, params\u001b[38;5;241m=\u001b[39m\u001b[38;5;28;01mNone\u001b[39;00m, proxy\u001b[38;5;241m=\u001b[39m\u001b[38;5;28;01mNone\u001b[39;00m, timeout\u001b[38;5;241m=\u001b[39m\u001b[38;5;241m30\u001b[39m):\n\u001b[1;32m--> 347\u001b[0m     \u001b[38;5;28;01mreturn\u001b[39;00m \u001b[38;5;28mself\u001b[39m\u001b[38;5;241m.\u001b[39m_make_request(url, request_method \u001b[38;5;241m=\u001b[39m \u001b[38;5;28mself\u001b[39m\u001b[38;5;241m.\u001b[39m_session\u001b[38;5;241m.\u001b[39mget, user_agent_headers\u001b[38;5;241m=\u001b[39muser_agent_headers, params\u001b[38;5;241m=\u001b[39mparams, proxy\u001b[38;5;241m=\u001b[39mproxy, timeout\u001b[38;5;241m=\u001b[39mtimeout)\n",
      "File \u001b[1;32mc:\\Users\\user\\anaconda3\\Lib\\site-packages\\yfinance\\utils.py:104\u001b[0m, in \u001b[0;36mlog_indent_decorator.<locals>.wrapper\u001b[1;34m(*args, **kwargs)\u001b[0m\n\u001b[0;32m    101\u001b[0m logger\u001b[38;5;241m.\u001b[39mdebug(\u001b[38;5;124mf\u001b[39m\u001b[38;5;124m'\u001b[39m\u001b[38;5;124mEntering \u001b[39m\u001b[38;5;132;01m{\u001b[39;00mfunc\u001b[38;5;241m.\u001b[39m\u001b[38;5;18m__name__\u001b[39m\u001b[38;5;132;01m}\u001b[39;00m\u001b[38;5;124m()\u001b[39m\u001b[38;5;124m'\u001b[39m)\n\u001b[0;32m    103\u001b[0m \u001b[38;5;28;01mwith\u001b[39;00m IndentationContext():\n\u001b[1;32m--> 104\u001b[0m     result \u001b[38;5;241m=\u001b[39m func(\u001b[38;5;241m*\u001b[39margs, \u001b[38;5;241m*\u001b[39m\u001b[38;5;241m*\u001b[39mkwargs)\n\u001b[0;32m    106\u001b[0m logger\u001b[38;5;241m.\u001b[39mdebug(\u001b[38;5;124mf\u001b[39m\u001b[38;5;124m'\u001b[39m\u001b[38;5;124mExiting \u001b[39m\u001b[38;5;132;01m{\u001b[39;00mfunc\u001b[38;5;241m.\u001b[39m\u001b[38;5;18m__name__\u001b[39m\u001b[38;5;132;01m}\u001b[39;00m\u001b[38;5;124m()\u001b[39m\u001b[38;5;124m'\u001b[39m)\n\u001b[0;32m    107\u001b[0m \u001b[38;5;28;01mreturn\u001b[39;00m result\n",
      "File \u001b[1;32mc:\\Users\\user\\anaconda3\\Lib\\site-packages\\yfinance\\data.py:409\u001b[0m, in \u001b[0;36mYfData._make_request\u001b[1;34m(self, url, request_method, user_agent_headers, body, params, proxy, timeout)\u001b[0m\n\u001b[0;32m    407\u001b[0m     \u001b[38;5;66;03m# Raise exception if rate limited\u001b[39;00m\n\u001b[0;32m    408\u001b[0m     \u001b[38;5;28;01mif\u001b[39;00m response\u001b[38;5;241m.\u001b[39mstatus_code \u001b[38;5;241m==\u001b[39m \u001b[38;5;241m429\u001b[39m:\n\u001b[1;32m--> 409\u001b[0m         \u001b[38;5;28;01mraise\u001b[39;00m YFRateLimitError()\n\u001b[0;32m    411\u001b[0m \u001b[38;5;28;01mreturn\u001b[39;00m response\n",
      "\u001b[1;31mYFRateLimitError\u001b[0m: Too Many Requests. Rate limited. Try after a while."
     ]
    }
   ],
   "source": [
    "data = aapl.history(start=\"2014-05-01\", end=\"2025-05-12\", actions=False)"
   ]
  },
  {
   "cell_type": "code",
   "execution_count": null,
   "id": "79e5826c",
   "metadata": {},
   "outputs": [],
   "source": [
    "data.index = pd.to_datetime(data.index)"
   ]
  },
  {
   "cell_type": "code",
   "execution_count": null,
   "id": "44c438ec",
   "metadata": {},
   "outputs": [
    {
     "data": {
      "text/plain": [
       "<Axes: xlabel='Date'>"
      ]
     },
     "execution_count": 22,
     "metadata": {},
     "output_type": "execute_result"
    },
    {
     "data": {
      "image/png": "[encoded data removed]",
      "text/plain": [
       "<Figure size 1600x600 with 1 Axes>"
      ]
     },
     "metadata": {},
     "output_type": "display_data"
    }
   ],
   "source": [
    "data['Close'].plot(figsize=(16,6))"
   ]
  },
  {
   "cell_type": "code",
   "execution_count": null,
   "id": "fe8eac54",
   "metadata": {},
   "outputs": [
    {
     "data": {
      "text/html": [
       "<div>\n",
       "<style scoped>\n",
       "    .dataframe tbody tr th:only-of-type {\n",
       "        vertical-align: middle;\n",
       "    }\n",
       "\n",
       "    .dataframe tbody tr th {\n",
       "        vertical-align: top;\n",
       "    }\n",
       "\n",
       "    .dataframe thead th {\n",
       "        text-align: right;\n",
       "    }\n",
       "</style>\n",
       "<table border=\"1\" class=\"dataframe\">\n",
       "  <thead>\n",
       "    <tr style=\"text-align: right;\">\n",
       "      <th></th>\n",
       "      <th>Open</th>\n",
       "      <th>High</th>\n",
       "      <th>Low</th>\n",
       "      <th>Close</th>\n",
       "      <th>Volume</th>\n",
       "    </tr>\n",
       "    <tr>\n",
       "      <th>Date</th>\n",
       "      <th></th>\n",
       "      <th></th>\n",
       "      <th></th>\n",
       "      <th></th>\n",
       "      <th></th>\n",
       "    </tr>\n",
       "  </thead>\n",
       "  <tbody>\n",
       "    <tr>\n",
       "      <th>2014-05-01 00:00:00-04:00</th>\n",
       "      <td>18.511156</td>\n",
       "      <td>18.598709</td>\n",
       "      <td>18.334801</td>\n",
       "      <td>18.494898</td>\n",
       "      <td>244048000</td>\n",
       "    </tr>\n",
       "    <tr>\n",
       "      <th>2014-05-02 00:00:00-04:00</th>\n",
       "      <td>18.521794</td>\n",
       "      <td>18.579954</td>\n",
       "      <td>18.439556</td>\n",
       "      <td>18.529297</td>\n",
       "      <td>191514400</td>\n",
       "    </tr>\n",
       "    <tr>\n",
       "      <th>2014-05-05 00:00:00-04:00</th>\n",
       "      <td>18.452995</td>\n",
       "      <td>18.792575</td>\n",
       "      <td>18.448617</td>\n",
       "      <td>18.791323</td>\n",
       "      <td>287067200</td>\n",
       "    </tr>\n",
       "    <tr>\n",
       "      <th>2014-05-06 00:00:00-04:00</th>\n",
       "      <td>18.817601</td>\n",
       "      <td>18.899212</td>\n",
       "      <td>18.586525</td>\n",
       "      <td>18.586525</td>\n",
       "      <td>374564400</td>\n",
       "    </tr>\n",
       "    <tr>\n",
       "      <th>2014-05-07 00:00:00-04:00</th>\n",
       "      <td>18.612780</td>\n",
       "      <td>18.676569</td>\n",
       "      <td>18.377638</td>\n",
       "      <td>18.521475</td>\n",
       "      <td>282864400</td>\n",
       "    </tr>\n",
       "    <tr>\n",
       "      <th>...</th>\n",
       "      <td>...</td>\n",
       "      <td>...</td>\n",
       "      <td>...</td>\n",
       "      <td>...</td>\n",
       "      <td>...</td>\n",
       "    </tr>\n",
       "    <tr>\n",
       "      <th>2025-05-05 00:00:00-04:00</th>\n",
       "      <td>202.834025</td>\n",
       "      <td>203.832716</td>\n",
       "      <td>197.950430</td>\n",
       "      <td>198.629532</td>\n",
       "      <td>69018500</td>\n",
       "    </tr>\n",
       "    <tr>\n",
       "      <th>2025-05-06 00:00:00-04:00</th>\n",
       "      <td>197.950420</td>\n",
       "      <td>200.387212</td>\n",
       "      <td>196.761976</td>\n",
       "      <td>198.250015</td>\n",
       "      <td>51216500</td>\n",
       "    </tr>\n",
       "    <tr>\n",
       "      <th>2025-05-07 00:00:00-04:00</th>\n",
       "      <td>198.909155</td>\n",
       "      <td>199.178806</td>\n",
       "      <td>192.996910</td>\n",
       "      <td>195.992981</td>\n",
       "      <td>68536700</td>\n",
       "    </tr>\n",
       "    <tr>\n",
       "      <th>2025-05-08 00:00:00-04:00</th>\n",
       "      <td>197.461064</td>\n",
       "      <td>199.788014</td>\n",
       "      <td>194.425036</td>\n",
       "      <td>197.231369</td>\n",
       "      <td>50478900</td>\n",
       "    </tr>\n",
       "    <tr>\n",
       "      <th>2025-05-09 00:00:00-04:00</th>\n",
       "      <td>198.739390</td>\n",
       "      <td>200.277366</td>\n",
       "      <td>197.281295</td>\n",
       "      <td>198.270004</td>\n",
       "      <td>36453900</td>\n",
       "    </tr>\n",
       "  </tbody>\n",
       "</table>\n",
       "<p>2774 rows × 5 columns</p>\n",
       "</div>"
      ],
      "text/plain": [
       "                                 Open        High         Low       Close  \\\n",
       "Date                                                                        \n",
       "2014-05-01 00:00:00-04:00   18.511156   18.598709   18.334801   18.494898   \n",
       "2014-05-02 00:00:00-04:00   18.521794   18.579954   18.439556   18.529297   \n",
       "2014-05-05 00:00:00-04:00   18.452995   18.792575   18.448617   18.791323   \n",
       "2014-05-06 00:00:00-04:00   18.817601   18.899212   18.586525   18.586525   \n",
       "2014-05-07 00:00:00-04:00   18.612780   18.676569   18.377638   18.521475   \n",
       "...                               ...         ...         ...         ...   \n",
       "2025-05-05 00:00:00-04:00  202.834025  203.832716  197.950430  198.629532   \n",
       "2025-05-06 00:00:00-04:00  197.950420  200.387212  196.761976  198.250015   \n",
       "2025-05-07 00:00:00-04:00  198.909155  199.178806  192.996910  195.992981   \n",
       "2025-05-08 00:00:00-04:00  197.461064  199.788014  194.425036  197.231369   \n",
       "2025-05-09 00:00:00-04:00  198.739390  200.277366  197.281295  198.270004   \n",
       "\n",
       "                              Volume  \n",
       "Date                                  \n",
       "2014-05-01 00:00:00-04:00  244048000  \n",
       "2014-05-02 00:00:00-04:00  191514400  \n",
       "2014-05-05 00:00:00-04:00  287067200  \n",
       "2014-05-06 00:00:00-04:00  374564400  \n",
       "2014-05-07 00:00:00-04:00  282864400  \n",
       "...                              ...  \n",
       "2025-05-05 00:00:00-04:00   69018500  \n",
       "2025-05-06 00:00:00-04:00   51216500  \n",
       "2025-05-07 00:00:00-04:00   68536700  \n",
       "2025-05-08 00:00:00-04:00   50478900  \n",
       "2025-05-09 00:00:00-04:00   36453900  \n",
       "\n",
       "[2774 rows x 5 columns]"
      ]
     },
     "execution_count": 23,
     "metadata": {},
     "output_type": "execute_result"
    }
   ],
   "source": [
    "data"
   ]
  },
  {
   "cell_type": "code",
   "execution_count": null,
   "id": "2dd2f56b",
   "metadata": {},
   "outputs": [],
   "source": [
    "data['delta'] = data['Close'].diff()"
   ]
  },
  {
   "cell_type": "code",
   "execution_count": null,
   "id": "98e9d1a9",
   "metadata": {},
   "outputs": [],
   "source": [
    "data['direction'] = (data['delta'] > 0).astype(int)"
   ]
  },
  {
   "cell_type": "code",
   "execution_count": null,
   "id": "31cd6682",
   "metadata": {},
   "outputs": [],
   "source": [
    "data = mlu.calc_all_default(data)"
   ]
  },
  {
   "cell_type": "code",
   "execution_count": null,
   "id": "5caab5b0",
   "metadata": {},
   "outputs": [],
   "source": [
    "def direction_momentum(df, horizons=[5, 10, 20, 60]):\n",
    "    new_df = df.copy()\n",
    "    for horizon in horizons:\n",
    "        name = f\"direction_mom_{horizon}\"\n",
    "        new_df[name] = new_df['direction'].rolling(horizon).sum() - (horizon/2)\n",
    "    return new_df"
   ]
  },
  {
   "cell_type": "code",
   "execution_count": null,
   "id": "e0d4b915",
   "metadata": {},
   "outputs": [],
   "source": [
    "data = direction_momentum(data)"
   ]
  },
  {
   "cell_type": "code",
   "execution_count": null,
   "id": "ff43bcae",
   "metadata": {},
   "outputs": [],
   "source": [
    "data['next_direction'] = data['direction'].shift(-1)"
   ]
  },
  {
   "cell_type": "code",
   "execution_count": null,
   "id": "ccd979a5",
   "metadata": {},
   "outputs": [],
   "source": [
    "data['last_close'] = data['Close'].shift(1)"
   ]
  },
  {
   "cell_type": "code",
   "execution_count": null,
   "id": "4b4af221",
   "metadata": {},
   "outputs": [
    {
     "data": {
      "text/plain": [
       "Index(['Open', 'High', 'Low', 'Close', 'Volume', 'delta', 'direction',\n",
       "       'RSI_14', 'SMA_5', 'SMA_10', 'SMA_20', 'SMA_50', 'SMA_100', 'EMA_20',\n",
       "       'EMA_50', 'EMA_100', 'MACD', 'MACD_Signal', 'BBU_20_2.0', 'BBL_20_2.0',\n",
       "       'momentum_10', 'ATR_14', 'direction_mom_5', 'direction_mom_10',\n",
       "       'direction_mom_20', 'direction_mom_60', 'next_direction', 'last_close'],\n",
       "      dtype='object')"
      ]
     },
     "execution_count": 31,
     "metadata": {},
     "output_type": "execute_result"
    }
   ],
   "source": [
    "data.columns"
   ]
  },
  {
   "cell_type": "code",
   "execution_count": null,
   "id": "52ffccec",
   "metadata": {},
   "outputs": [],
   "source": [
    "data = data.dropna()"
   ]
  },
  {
   "cell_type": "code",
   "execution_count": 82,
   "id": "ca7cfbc8",
   "metadata": {},
   "outputs": [],
   "source": [
    "# Dataset for regression trees\n",
    "reg_data = data[['next_direction', 'direction', 'direction_mom_5', 'direction_mom_10',\n",
    "       'direction_mom_20', 'direction_mom_60']]\n",
    "\n",
    "X = reg_data[['direction', 'direction_mom_5', 'direction_mom_10',\n",
    "       'direction_mom_20', 'direction_mom_60']]\n",
    "\n",
    "y = reg_data[['next_direction']]\n",
    "\n",
    "X_train, X_val, y_train, y_val = uc.split_before_year(X, y, 2022)\n"
   ]
  },
  {
   "cell_type": "markdown",
   "id": "a70aeb82",
   "metadata": {},
   "source": [
    "# XGB Classification without sentiment"
   ]
  },
  {
   "cell_type": "code",
   "execution_count": 83,
   "id": "c415f9b6",
   "metadata": {},
   "outputs": [],
   "source": [
    "import xgboost as xgb\n",
    "from xgboost import XGBClassifier\n",
    "from sklearn.metrics import accuracy_score, classification_report"
   ]
  },
  {
   "cell_type": "code",
   "execution_count": 128,
   "id": "8179e1bf",
   "metadata": {},
   "outputs": [],
   "source": [
    "n_estimators = 20000\n",
    "learning_rate = 0.005\n",
    "subsample = 0.8\n",
    "colsample_bytree = 0.8\n",
    "gamma = 0.1\n",
    "scale_pos_weight = np.sum(y.values == 0) / np.sum(y.values == 1)"
   ]
  },
  {
   "cell_type": "code",
   "execution_count": 129,
   "id": "0d04c721",
   "metadata": {},
   "outputs": [
    {
     "data": {
      "text/html": [
       "<style>#sk-container-id-7 {color: black;}#sk-container-id-7 pre{padding: 0;}#sk-container-id-7 div.sk-toggleable {background-color: white;}#sk-container-id-7 label.sk-toggleable__label {cursor: pointer;display: block;width: 100%;margin-bottom: 0;padding: 0.3em;box-sizing: border-box;text-align: center;}#sk-container-id-7 label.sk-toggleable__label-arrow:before {content: \"▸\";float: left;margin-right: 0.25em;color: #696969;}#sk-container-id-7 label.sk-toggleable__label-arrow:hover:before {color: black;}#sk-container-id-7 div.sk-estimator:hover label.sk-toggleable__label-arrow:before {color: black;}#sk-container-id-7 div.sk-toggleable__content {max-height: 0;max-width: 0;overflow: hidden;text-align: left;background-color: #f0f8ff;}#sk-container-id-7 div.sk-toggleable__content pre {margin: 0.2em;color: black;border-radius: 0.25em;background-color: #f0f8ff;}#sk-container-id-7 input.sk-toggleable__control:checked~div.sk-toggleable__content {max-height: 200px;max-width: 100%;overflow: auto;}#sk-container-id-7 input.sk-toggleable__control:checked~label.sk-toggleable__label-arrow:before {content: \"▾\";}#sk-container-id-7 div.sk-estimator input.sk-toggleable__control:checked~label.sk-toggleable__label {background-color: #d4ebff;}#sk-container-id-7 div.sk-label input.sk-toggleable__control:checked~label.sk-toggleable__label {background-color: #d4ebff;}#sk-container-id-7 input.sk-hidden--visually {border: 0;clip: rect(1px 1px 1px 1px);clip: rect(1px, 1px, 1px, 1px);height: 1px;margin: -1px;overflow: hidden;padding: 0;position: absolute;width: 1px;}#sk-container-id-7 div.sk-estimator {font-family: monospace;background-color: #f0f8ff;border: 1px dotted black;border-radius: 0.25em;box-sizing: border-box;margin-bottom: 0.5em;}#sk-container-id-7 div.sk-estimator:hover {background-color: #d4ebff;}#sk-container-id-7 div.sk-parallel-item::after {content: \"\";width: 100%;border-bottom: 1px solid gray;flex-grow: 1;}#sk-container-id-7 div.sk-label:hover label.sk-toggleable__label {background-color: #d4ebff;}#sk-container-id-7 div.sk-serial::before {content: \"\";position: absolute;border-left: 1px solid gray;box-sizing: border-box;top: 0;bottom: 0;left: 50%;z-index: 0;}#sk-container-id-7 div.sk-serial {display: flex;flex-direction: column;align-items: center;background-color: white;padding-right: 0.2em;padding-left: 0.2em;position: relative;}#sk-container-id-7 div.sk-item {position: relative;z-index: 1;}#sk-container-id-7 div.sk-parallel {display: flex;align-items: stretch;justify-content: center;background-color: white;position: relative;}#sk-container-id-7 div.sk-item::before, #sk-container-id-7 div.sk-parallel-item::before {content: \"\";position: absolute;border-left: 1px solid gray;box-sizing: border-box;top: 0;bottom: 0;left: 50%;z-index: -1;}#sk-container-id-7 div.sk-parallel-item {display: flex;flex-direction: column;z-index: 1;position: relative;background-color: white;}#sk-container-id-7 div.sk-parallel-item:first-child::after {align-self: flex-end;width: 50%;}#sk-container-id-7 div.sk-parallel-item:last-child::after {align-self: flex-start;width: 50%;}#sk-container-id-7 div.sk-parallel-item:only-child::after {width: 0;}#sk-container-id-7 div.sk-dashed-wrapped {border: 1px dashed gray;margin: 0 0.4em 0.5em 0.4em;box-sizing: border-box;padding-bottom: 0.4em;background-color: white;}#sk-container-id-7 div.sk-label label {font-family: monospace;font-weight: bold;display: inline-block;line-height: 1.2em;}#sk-container-id-7 div.sk-label-container {text-align: center;}#sk-container-id-7 div.sk-container {/* jupyter's `normalize.less` sets `[hidden] { display: none; }` but bootstrap.min.css set `[hidden] { display: none !important; }` so we also need the `!important` here to be able to override the default hidden behavior on the sphinx rendered scikit-learn.org. See: https://github.com/scikit-learn/scikit-learn/issues/21755 */display: inline-block !important;position: relative;}#sk-container-id-7 div.sk-text-repr-fallback {display: none;}</style><div id=\"sk-container-id-7\" class=\"sk-top-container\"><div class=\"sk-text-repr-fallback\"><pre>XGBClassifier(base_score=None, booster=None, callbacks=None,\n",
       "              colsample_bylevel=None, colsample_bynode=None,\n",
       "              colsample_bytree=0.8, device=None, early_stopping_rounds=None,\n",
       "              enable_categorical=False, eval_metric=&#x27;logloss&#x27;,\n",
       "              feature_types=None, feature_weights=None, gamma=0.1,\n",
       "              grow_policy=None, importance_type=None,\n",
       "              interaction_constraints=None, learning_rate=0.005, max_bin=None,\n",
       "              max_cat_threshold=None, max_cat_to_onehot=None,\n",
       "              max_delta_step=None, max_depth=None, max_leaves=None,\n",
       "              min_child_weight=None, missing=nan, monotone_constraints=None,\n",
       "              multi_strategy=None, n_estimators=20000, n_jobs=None,\n",
       "              num_parallel_tree=None, ...)</pre><b>In a Jupyter environment, please rerun this cell to show the HTML representation or trust the notebook. <br />On GitHub, the HTML representation is unable to render, please try loading this page with nbviewer.org.</b></div><div class=\"sk-container\" hidden><div class=\"sk-item\"><div class=\"sk-estimator sk-toggleable\"><input class=\"sk-toggleable__control sk-hidden--visually\" id=\"sk-estimator-id-7\" type=\"checkbox\" checked><label for=\"sk-estimator-id-7\" class=\"sk-toggleable__label sk-toggleable__label-arrow\">XGBClassifier</label><div class=\"sk-toggleable__content\"><pre>XGBClassifier(base_score=None, booster=None, callbacks=None,\n",
       "              colsample_bylevel=None, colsample_bynode=None,\n",
       "              colsample_bytree=0.8, device=None, early_stopping_rounds=None,\n",
       "              enable_categorical=False, eval_metric=&#x27;logloss&#x27;,\n",
       "              feature_types=None, feature_weights=None, gamma=0.1,\n",
       "              grow_policy=None, importance_type=None,\n",
       "              interaction_constraints=None, learning_rate=0.005, max_bin=None,\n",
       "              max_cat_threshold=None, max_cat_to_onehot=None,\n",
       "              max_delta_step=None, max_depth=None, max_leaves=None,\n",
       "              min_child_weight=None, missing=nan, monotone_constraints=None,\n",
       "              multi_strategy=None, n_estimators=20000, n_jobs=None,\n",
       "              num_parallel_tree=None, ...)</pre></div></div></div></div></div>"
      ],
      "text/plain": [
       "XGBClassifier(base_score=None, booster=None, callbacks=None,\n",
       "              colsample_bylevel=None, colsample_bynode=None,\n",
       "              colsample_bytree=0.8, device=None, early_stopping_rounds=None,\n",
       "              enable_categorical=False, eval_metric='logloss',\n",
       "              feature_types=None, feature_weights=None, gamma=0.1,\n",
       "              grow_policy=None, importance_type=None,\n",
       "              interaction_constraints=None, learning_rate=0.005, max_bin=None,\n",
       "              max_cat_threshold=None, max_cat_to_onehot=None,\n",
       "              max_delta_step=None, max_depth=None, max_leaves=None,\n",
       "              min_child_weight=None, missing=nan, monotone_constraints=None,\n",
       "              multi_strategy=None, n_estimators=20000, n_jobs=None,\n",
       "              num_parallel_tree=None, ...)"
      ]
     },
     "execution_count": 129,
     "metadata": {},
     "output_type": "execute_result"
    }
   ],
   "source": [
    "model = XGBClassifier(n_estimators=n_estimators,\n",
    "                      learning_rate=learning_rate,\n",
    "                      subsample=subsample,\n",
    "                      colsample_bytree=colsample_bytree,\n",
    "                      gamma=gamma,\n",
    "                      scale_pos_weight=scale_pos_weight,\n",
    "                      use_label_encoder=False,\n",
    "                      eval_metric='logloss')\n",
    "model.fit(X_train, y_train)"
   ]
  },
  {
   "cell_type": "code",
   "execution_count": 130,
   "id": "36ebdd56",
   "metadata": {},
   "outputs": [
    {
     "name": "stdout",
     "output_type": "stream",
     "text": [
      "Accuracy: 0.8184296619411123\n",
      "              precision    recall  f1-score   support\n",
      "\n",
      "         0.0       0.80      0.81      0.81       860\n",
      "         1.0       0.83      0.82      0.83       974\n",
      "\n",
      "    accuracy                           0.82      1834\n",
      "   macro avg       0.82      0.82      0.82      1834\n",
      "weighted avg       0.82      0.82      0.82      1834\n",
      "\n"
     ]
    }
   ],
   "source": [
    "y_train_pred = model.predict(X_train)\n",
    "\n",
    "print(\"Accuracy:\", accuracy_score(y_train, y_train_pred))\n",
    "print(classification_report(y_train, y_train_pred))"
   ]
  },
  {
   "cell_type": "code",
   "execution_count": 131,
   "id": "0b7b6d61",
   "metadata": {},
   "outputs": [],
   "source": [
    "y_pred = model.predict(X_val)"
   ]
  },
  {
   "cell_type": "code",
   "execution_count": 132,
   "id": "f620cc54",
   "metadata": {},
   "outputs": [
    {
     "name": "stdout",
     "output_type": "stream",
     "text": [
      "Accuracy: 0.544047619047619\n",
      "              precision    recall  f1-score   support\n",
      "\n",
      "         0.0       0.52      0.53      0.52       397\n",
      "         1.0       0.57      0.56      0.56       443\n",
      "\n",
      "    accuracy                           0.54       840\n",
      "   macro avg       0.54      0.54      0.54       840\n",
      "weighted avg       0.54      0.54      0.54       840\n",
      "\n"
     ]
    }
   ],
   "source": [
    "print(\"Accuracy:\", accuracy_score(y_val, y_pred))\n",
    "print(classification_report(y_val, y_pred))"
   ]
  },
  {
   "cell_type": "code",
   "execution_count": 141,
   "id": "7b0fd4e4",
   "metadata": {},
   "outputs": [
    {
     "name": "stdout",
     "output_type": "stream",
     "text": [
      "Accuracy: 0.5095238095238095\n",
      "              precision    recall  f1-score   support\n",
      "\n",
      "         0.0       0.48      0.48      0.48       397\n",
      "         1.0       0.54      0.53      0.53       443\n",
      "\n",
      "    accuracy                           0.51       840\n",
      "   macro avg       0.51      0.51      0.51       840\n",
      "weighted avg       0.51      0.51      0.51       840\n",
      "\n"
     ]
    }
   ],
   "source": [
    "# Comparison with random model\n",
    "p = np.mean(y_val.values)\n",
    "#print(p)\n",
    "y_random_weighted = np.random.choice([0, 1], size=len(y_val), p=[1 - p, p])\n",
    "\n",
    "print(\"Accuracy:\", accuracy_score(y_val, y_random_weighted))\n",
    "print(classification_report(y_val, y_random_weighted))"
   ]
  },
  {
   "cell_type": "markdown",
   "id": "358645ad",
   "metadata": {},
   "source": [
    "# Tests with Logistic Regression"
   ]
  },
  {
   "cell_type": "code",
   "execution_count": 37,
   "id": "d94187e7",
   "metadata": {},
   "outputs": [],
   "source": [
    "from sklearn.linear_model import LogisticRegression\n",
    "from sklearn.preprocessing import PolynomialFeatures, StandardScaler, RobustScaler\n",
    "from sklearn.pipeline import Pipeline"
   ]
  },
  {
   "cell_type": "code",
   "execution_count": null,
   "id": "2367af39",
   "metadata": {},
   "outputs": [],
   "source": [
    "# Preparing dataframe for the model\n",
    "lr_target = data[['next_direction']]\n",
    "lr_input = data[['direction',\n",
    "       'RSI_14', 'SMA_5', 'SMA_10', 'SMA_20', 'SMA_50', 'SMA_100', 'EMA_20',\n",
    "       'EMA_50', 'EMA_100', 'MACD', 'MACD_Signal', 'BBU_20_2.0', 'BBL_20_2.0',\n",
    "       'momentum_10', 'ATR_14', 'direction_mom_5', 'direction_mom_10',\n",
    "       'direction_mom_20', 'direction_mom_60', 'last_close']]\n"
   ]
  },
  {
   "cell_type": "code",
   "execution_count": null,
   "id": "0126d12d",
   "metadata": {},
   "outputs": [],
   "source": [
    "X_train, X_val, y_train, y_val = uc.split_before_year(lr_input, lr_target, 2023)"
   ]
  },
  {
   "cell_type": "code",
   "execution_count": 48,
   "id": "7eb3ef67",
   "metadata": {},
   "outputs": [],
   "source": [
    "l1_ratio = 1 # 1->Lasso, 0->Ridge\n",
    "C = 0.7\n",
    "max_iter = 10000\n",
    "\n",
    "poly_degree = 3"
   ]
  },
  {
   "cell_type": "code",
   "execution_count": 49,
   "id": "bb1c491d",
   "metadata": {},
   "outputs": [
    {
     "data": {
      "text/html": [
       "<style>#sk-container-id-3 {color: black;}#sk-container-id-3 pre{padding: 0;}#sk-container-id-3 div.sk-toggleable {background-color: white;}#sk-container-id-3 label.sk-toggleable__label {cursor: pointer;display: block;width: 100%;margin-bottom: 0;padding: 0.3em;box-sizing: border-box;text-align: center;}#sk-container-id-3 label.sk-toggleable__label-arrow:before {content: \"▸\";float: left;margin-right: 0.25em;color: #696969;}#sk-container-id-3 label.sk-toggleable__label-arrow:hover:before {color: black;}#sk-container-id-3 div.sk-estimator:hover label.sk-toggleable__label-arrow:before {color: black;}#sk-container-id-3 div.sk-toggleable__content {max-height: 0;max-width: 0;overflow: hidden;text-align: left;background-color: #f0f8ff;}#sk-container-id-3 div.sk-toggleable__content pre {margin: 0.2em;color: black;border-radius: 0.25em;background-color: #f0f8ff;}#sk-container-id-3 input.sk-toggleable__control:checked~div.sk-toggleable__content {max-height: 200px;max-width: 100%;overflow: auto;}#sk-container-id-3 input.sk-toggleable__control:checked~label.sk-toggleable__label-arrow:before {content: \"▾\";}#sk-container-id-3 div.sk-estimator input.sk-toggleable__control:checked~label.sk-toggleable__label {background-color: #d4ebff;}#sk-container-id-3 div.sk-label input.sk-toggleable__control:checked~label.sk-toggleable__label {background-color: #d4ebff;}#sk-container-id-3 input.sk-hidden--visually {border: 0;clip: rect(1px 1px 1px 1px);clip: rect(1px, 1px, 1px, 1px);height: 1px;margin: -1px;overflow: hidden;padding: 0;position: absolute;width: 1px;}#sk-container-id-3 div.sk-estimator {font-family: monospace;background-color: #f0f8ff;border: 1px dotted black;border-radius: 0.25em;box-sizing: border-box;margin-bottom: 0.5em;}#sk-container-id-3 div.sk-estimator:hover {background-color: #d4ebff;}#sk-container-id-3 div.sk-parallel-item::after {content: \"\";width: 100%;border-bottom: 1px solid gray;flex-grow: 1;}#sk-container-id-3 div.sk-label:hover label.sk-toggleable__label {background-color: #d4ebff;}#sk-container-id-3 div.sk-serial::before {content: \"\";position: absolute;border-left: 1px solid gray;box-sizing: border-box;top: 0;bottom: 0;left: 50%;z-index: 0;}#sk-container-id-3 div.sk-serial {display: flex;flex-direction: column;align-items: center;background-color: white;padding-right: 0.2em;padding-left: 0.2em;position: relative;}#sk-container-id-3 div.sk-item {position: relative;z-index: 1;}#sk-container-id-3 div.sk-parallel {display: flex;align-items: stretch;justify-content: center;background-color: white;position: relative;}#sk-container-id-3 div.sk-item::before, #sk-container-id-3 div.sk-parallel-item::before {content: \"\";position: absolute;border-left: 1px solid gray;box-sizing: border-box;top: 0;bottom: 0;left: 50%;z-index: -1;}#sk-container-id-3 div.sk-parallel-item {display: flex;flex-direction: column;z-index: 1;position: relative;background-color: white;}#sk-container-id-3 div.sk-parallel-item:first-child::after {align-self: flex-end;width: 50%;}#sk-container-id-3 div.sk-parallel-item:last-child::after {align-self: flex-start;width: 50%;}#sk-container-id-3 div.sk-parallel-item:only-child::after {width: 0;}#sk-container-id-3 div.sk-dashed-wrapped {border: 1px dashed gray;margin: 0 0.4em 0.5em 0.4em;box-sizing: border-box;padding-bottom: 0.4em;background-color: white;}#sk-container-id-3 div.sk-label label {font-family: monospace;font-weight: bold;display: inline-block;line-height: 1.2em;}#sk-container-id-3 div.sk-label-container {text-align: center;}#sk-container-id-3 div.sk-container {/* jupyter's `normalize.less` sets `[hidden] { display: none; }` but bootstrap.min.css set `[hidden] { display: none !important; }` so we also need the `!important` here to be able to override the default hidden behavior on the sphinx rendered scikit-learn.org. See: https://github.com/scikit-learn/scikit-learn/issues/21755 */display: inline-block !important;position: relative;}#sk-container-id-3 div.sk-text-repr-fallback {display: none;}</style><div id=\"sk-container-id-3\" class=\"sk-top-container\"><div class=\"sk-text-repr-fallback\"><pre>Pipeline(steps=[(&#x27;scaler&#x27;, RobustScaler()),\n",
       "                (&#x27;class&#x27;,\n",
       "                 LogisticRegression(C=0.7, l1_ratio=1, max_iter=10000,\n",
       "                                    penalty=&#x27;elasticnet&#x27;, solver=&#x27;saga&#x27;))])</pre><b>In a Jupyter environment, please rerun this cell to show the HTML representation or trust the notebook. <br />On GitHub, the HTML representation is unable to render, please try loading this page with nbviewer.org.</b></div><div class=\"sk-container\" hidden><div class=\"sk-item sk-dashed-wrapped\"><div class=\"sk-label-container\"><div class=\"sk-label sk-toggleable\"><input class=\"sk-toggleable__control sk-hidden--visually\" id=\"sk-estimator-id-9\" type=\"checkbox\" ><label for=\"sk-estimator-id-9\" class=\"sk-toggleable__label sk-toggleable__label-arrow\">Pipeline</label><div class=\"sk-toggleable__content\"><pre>Pipeline(steps=[(&#x27;scaler&#x27;, RobustScaler()),\n",
       "                (&#x27;class&#x27;,\n",
       "                 LogisticRegression(C=0.7, l1_ratio=1, max_iter=10000,\n",
       "                                    penalty=&#x27;elasticnet&#x27;, solver=&#x27;saga&#x27;))])</pre></div></div></div><div class=\"sk-serial\"><div class=\"sk-item\"><div class=\"sk-estimator sk-toggleable\"><input class=\"sk-toggleable__control sk-hidden--visually\" id=\"sk-estimator-id-10\" type=\"checkbox\" ><label for=\"sk-estimator-id-10\" class=\"sk-toggleable__label sk-toggleable__label-arrow\">RobustScaler</label><div class=\"sk-toggleable__content\"><pre>RobustScaler()</pre></div></div></div><div class=\"sk-item\"><div class=\"sk-estimator sk-toggleable\"><input class=\"sk-toggleable__control sk-hidden--visually\" id=\"sk-estimator-id-11\" type=\"checkbox\" ><label for=\"sk-estimator-id-11\" class=\"sk-toggleable__label sk-toggleable__label-arrow\">LogisticRegression</label><div class=\"sk-toggleable__content\"><pre>LogisticRegression(C=0.7, l1_ratio=1, max_iter=10000, penalty=&#x27;elasticnet&#x27;,\n",
       "                   solver=&#x27;saga&#x27;)</pre></div></div></div></div></div></div></div>"
      ],
      "text/plain": [
       "Pipeline(steps=[('scaler', RobustScaler()),\n",
       "                ('class',\n",
       "                 LogisticRegression(C=0.7, l1_ratio=1, max_iter=10000,\n",
       "                                    penalty='elasticnet', solver='saga'))])"
      ]
     },
     "execution_count": 49,
     "metadata": {},
     "output_type": "execute_result"
    }
   ],
   "source": [
    "# Creating the model\n",
    "lr_model = Pipeline([\n",
    "    #('poly', PolynomialFeatures(degree=poly_degree, include_bias=False)),\n",
    "    ('scaler', RobustScaler()),\n",
    "    ('class', LogisticRegression(\n",
    "        penalty='elasticnet',\n",
    "        solver='saga',\n",
    "        l1_ratio=l1_ratio,\n",
    "        C=C,\n",
    "        max_iter=max_iter\n",
    "    ))\n",
    "])\n",
    "\n",
    "lr_model.fit(X_train, y_train)"
   ]
  },
  {
   "cell_type": "code",
   "execution_count": 50,
   "id": "36512273",
   "metadata": {},
   "outputs": [],
   "source": [
    "y_train_pred = lr_model.predict(X_train)\n",
    "y_val_pred = lr_model.predict(X_val)"
   ]
  },
  {
   "cell_type": "code",
   "execution_count": 51,
   "id": "dadc8beb",
   "metadata": {},
   "outputs": [
    {
     "name": "stdout",
     "output_type": "stream",
     "text": [
      "Train set evaluation:\n",
      "Accuracy: 0.5328537170263788\n",
      "              precision    recall  f1-score   support\n",
      "\n",
      "         0.0       0.52      0.23      0.32       994\n",
      "         1.0       0.54      0.81      0.64      1091\n",
      "\n",
      "    accuracy                           0.53      2085\n",
      "   macro avg       0.53      0.52      0.48      2085\n",
      "weighted avg       0.53      0.53      0.49      2085\n",
      "\n",
      "\n",
      "Validation set evaluation:\n",
      "Accuracy: 0.4533106960950764\n",
      "              precision    recall  f1-score   support\n",
      "\n",
      "         0.0       0.40      0.47      0.44       263\n",
      "         1.0       0.51      0.44      0.47       326\n",
      "\n",
      "    accuracy                           0.45       589\n",
      "   macro avg       0.46      0.46      0.45       589\n",
      "weighted avg       0.46      0.45      0.45       589\n",
      "\n"
     ]
    }
   ],
   "source": [
    "from sklearn.metrics import accuracy_score, classification_report\n",
    "\n",
    "print(\"Train set evaluation:\")\n",
    "print(\"Accuracy:\", accuracy_score(y_train, y_train_pred))\n",
    "print(classification_report(y_train, y_train_pred))\n",
    "\n",
    "print(\"\\nValidation set evaluation:\")\n",
    "print(\"Accuracy:\", accuracy_score(y_val, y_val_pred))\n",
    "print(classification_report(y_val, y_val_pred))"
   ]
  },
  {
   "cell_type": "markdown",
   "id": "2458fff5",
   "metadata": {},
   "source": [
    "# Feature analysis with Lasso"
   ]
  },
  {
   "cell_type": "markdown",
   "id": "10c73300",
   "metadata": {},
   "source": [
    "## With PolynomialFeatures and grid search (Too much training time)"
   ]
  },
  {
   "cell_type": "code",
   "execution_count": 52,
   "id": "adb918c3",
   "metadata": {},
   "outputs": [],
   "source": [
    "from sklearn.linear_model import Lasso\n",
    "from sklearn.linear_model import LassoCV\n",
    "from sklearn.preprocessing import StandardScaler\n",
    "from sklearn.linear_model import LogisticRegressionCV\n",
    "from sklearn.pipeline import make_pipeline\n",
    "from sklearn.pipeline import Pipeline"
   ]
  },
  {
   "cell_type": "code",
   "execution_count": 53,
   "id": "9b85606c",
   "metadata": {},
   "outputs": [],
   "source": [
    "# Preparing dataframe for the model\n",
    "lasso_target = data[['next_direction']]\n",
    "lasso_input = data[['direction',\n",
    "       'RSI_14', 'SMA_5', 'SMA_10', 'SMA_20', 'SMA_50', 'SMA_100', 'EMA_20',\n",
    "       'EMA_50', 'EMA_100', 'MACD', 'MACD_Signal', 'BBU_20_2.0', 'BBL_20_2.0',\n",
    "       'momentum_10', 'ATR_14', 'direction_mom_5', 'direction_mom_10',\n",
    "       'direction_mom_20', 'direction_mom_60', 'last_close']]"
   ]
  },
  {
   "cell_type": "code",
   "execution_count": 54,
   "id": "8f1265fb",
   "metadata": {},
   "outputs": [],
   "source": [
    "X_train, X_val, y_train, y_val = uc.split_before_year(lr_input, lr_target, 2023)"
   ]
  },
  {
   "cell_type": "code",
   "execution_count": null,
   "id": "3ec38af2",
   "metadata": {},
   "outputs": [],
   "source": [
    "lasso = Pipeline([\n",
    "    ('poly', PolynomialFeatures(degree=3)),\n",
    "    ('scaler', StandardScaler()),\n",
    "    ('lasso', LogisticRegressionCV(penalty='l1',\n",
    "                                   solver='saga',\n",
    "                                   Cs=10,\n",
    "                                   cv=5,\n",
    "                                   max_iter=1000,\n",
    "                                   scoring='accuracy'))\n",
    "])\n",
    "\n",
    "lasso.fit(X_train, y_train)"
   ]
  },
  {
   "cell_type": "code",
   "execution_count": null,
   "id": "6677640f",
   "metadata": {},
   "outputs": [],
   "source": [
    "y_train_pred = lasso.predict(X_train)\n",
    "y_val_pred = lasso.predict(X_val)"
   ]
  },
  {
   "cell_type": "code",
   "execution_count": null,
   "id": "eaff601e",
   "metadata": {},
   "outputs": [],
   "source": [
    "from sklearn.metrics import accuracy_score, classification_report\n",
    "\n",
    "print(\"Train set evaluation:\")\n",
    "print(\"Accuracy:\", accuracy_score(y_train, y_train_pred))\n",
    "print(classification_report(y_train, y_train_pred))\n",
    "\n",
    "print(\"\\nValidation set evaluation:\")\n",
    "print(\"Accuracy:\", accuracy_score(y_val, y_val_pred))\n",
    "print(classification_report(y_val, y_val_pred))"
   ]
  },
  {
   "cell_type": "markdown",
   "id": "015917b4",
   "metadata": {},
   "source": [
    "## Simple Lasso testing"
   ]
  },
  {
   "cell_type": "code",
   "execution_count": 23,
   "id": "91286874",
   "metadata": {},
   "outputs": [],
   "source": [
    "from sklearn.linear_model import Lasso\n",
    "from sklearn.linear_model import LassoCV\n",
    "from sklearn.preprocessing import StandardScaler\n",
    "from sklearn.linear_model import LogisticRegression\n",
    "from sklearn.pipeline import make_pipeline\n",
    "from sklearn.pipeline import Pipeline"
   ]
  },
  {
   "cell_type": "code",
   "execution_count": 24,
   "id": "fb6a2020",
   "metadata": {},
   "outputs": [],
   "source": [
    "apple = pd.read_csv(\"datasets/apple_2014-2024_fullSimpleFeatures.csv\")"
   ]
  },
  {
   "cell_type": "code",
   "execution_count": 25,
   "id": "37592b0e",
   "metadata": {},
   "outputs": [],
   "source": [
    "def direction_momentum(df, horizons=[5, 10, 20, 60]):\n",
    "    new_df = df.copy()\n",
    "    for horizon in horizons:\n",
    "        name = f\"direction_mom_{horizon}\"\n",
    "        new_df[name] = new_df['direction'].rolling(horizon).sum() - (horizon/2)\n",
    "    return new_df"
   ]
  },
  {
   "cell_type": "code",
   "execution_count": 26,
   "id": "60648980",
   "metadata": {},
   "outputs": [],
   "source": [
    "apple = apple.set_index(['date']).sort_index()\n",
    "apple = apple.dropna()\n",
    "apple.index = pd.to_datetime(apple.index)"
   ]
  },
  {
   "cell_type": "code",
   "execution_count": 27,
   "id": "31a88612",
   "metadata": {},
   "outputs": [],
   "source": [
    "data = apple\n",
    "data['delta'] = data['Close'].diff()\n",
    "data['direction'] = (data['delta'] > 0).astype(int)\n",
    "data = direction_momentum(data)\n",
    "data['next_direction'] = data['direction'].shift(-1)\n",
    "data['last_close'] = data['Close'].shift(1)\n",
    "data = data.dropna()"
   ]
  },
  {
   "cell_type": "code",
   "execution_count": 28,
   "id": "2f26f351",
   "metadata": {},
   "outputs": [],
   "source": [
    "# Preparing dataframe for the model\n",
    "lasso_target = data[['next_direction']]\n",
    "lasso_input = data[['direction',\n",
    "       'RSI_14', 'SMA_5', 'SMA_10', 'SMA_20', 'SMA_50', 'SMA_100', 'EMA_20',\n",
    "       'EMA_50', 'EMA_100', 'MACD', 'MACD_Signal', 'BBU_20_2.0', 'BBL_20_2.0',\n",
    "       'momentum_10', 'ATR_14', 'direction_mom_5', 'direction_mom_10',\n",
    "       'direction_mom_20', 'direction_mom_60', 'last_close']]"
   ]
  },
  {
   "cell_type": "code",
   "execution_count": 29,
   "id": "bbfe2ee4",
   "metadata": {},
   "outputs": [],
   "source": [
    "X_train, X_val, y_train, y_val = uc.split_before_year(lasso_input, lasso_target, 2023)"
   ]
  },
  {
   "cell_type": "code",
   "execution_count": 30,
   "id": "db6e166b",
   "metadata": {},
   "outputs": [
    {
     "data": {
      "text/html": [
       "<style>#sk-container-id-1 {color: black;}#sk-container-id-1 pre{padding: 0;}#sk-container-id-1 div.sk-toggleable {background-color: white;}#sk-container-id-1 label.sk-toggleable__label {cursor: pointer;display: block;width: 100%;margin-bottom: 0;padding: 0.3em;box-sizing: border-box;text-align: center;}#sk-container-id-1 label.sk-toggleable__label-arrow:before {content: \"▸\";float: left;margin-right: 0.25em;color: #696969;}#sk-container-id-1 label.sk-toggleable__label-arrow:hover:before {color: black;}#sk-container-id-1 div.sk-estimator:hover label.sk-toggleable__label-arrow:before {color: black;}#sk-container-id-1 div.sk-toggleable__content {max-height: 0;max-width: 0;overflow: hidden;text-align: left;background-color: #f0f8ff;}#sk-container-id-1 div.sk-toggleable__content pre {margin: 0.2em;color: black;border-radius: 0.25em;background-color: #f0f8ff;}#sk-container-id-1 input.sk-toggleable__control:checked~div.sk-toggleable__content {max-height: 200px;max-width: 100%;overflow: auto;}#sk-container-id-1 input.sk-toggleable__control:checked~label.sk-toggleable__label-arrow:before {content: \"▾\";}#sk-container-id-1 div.sk-estimator input.sk-toggleable__control:checked~label.sk-toggleable__label {background-color: #d4ebff;}#sk-container-id-1 div.sk-label input.sk-toggleable__control:checked~label.sk-toggleable__label {background-color: #d4ebff;}#sk-container-id-1 input.sk-hidden--visually {border: 0;clip: rect(1px 1px 1px 1px);clip: rect(1px, 1px, 1px, 1px);height: 1px;margin: -1px;overflow: hidden;padding: 0;position: absolute;width: 1px;}#sk-container-id-1 div.sk-estimator {font-family: monospace;background-color: #f0f8ff;border: 1px dotted black;border-radius: 0.25em;box-sizing: border-box;margin-bottom: 0.5em;}#sk-container-id-1 div.sk-estimator:hover {background-color: #d4ebff;}#sk-container-id-1 div.sk-parallel-item::after {content: \"\";width: 100%;border-bottom: 1px solid gray;flex-grow: 1;}#sk-container-id-1 div.sk-label:hover label.sk-toggleable__label {background-color: #d4ebff;}#sk-container-id-1 div.sk-serial::before {content: \"\";position: absolute;border-left: 1px solid gray;box-sizing: border-box;top: 0;bottom: 0;left: 50%;z-index: 0;}#sk-container-id-1 div.sk-serial {display: flex;flex-direction: column;align-items: center;background-color: white;padding-right: 0.2em;padding-left: 0.2em;position: relative;}#sk-container-id-1 div.sk-item {position: relative;z-index: 1;}#sk-container-id-1 div.sk-parallel {display: flex;align-items: stretch;justify-content: center;background-color: white;position: relative;}#sk-container-id-1 div.sk-item::before, #sk-container-id-1 div.sk-parallel-item::before {content: \"\";position: absolute;border-left: 1px solid gray;box-sizing: border-box;top: 0;bottom: 0;left: 50%;z-index: -1;}#sk-container-id-1 div.sk-parallel-item {display: flex;flex-direction: column;z-index: 1;position: relative;background-color: white;}#sk-container-id-1 div.sk-parallel-item:first-child::after {align-self: flex-end;width: 50%;}#sk-container-id-1 div.sk-parallel-item:last-child::after {align-self: flex-start;width: 50%;}#sk-container-id-1 div.sk-parallel-item:only-child::after {width: 0;}#sk-container-id-1 div.sk-dashed-wrapped {border: 1px dashed gray;margin: 0 0.4em 0.5em 0.4em;box-sizing: border-box;padding-bottom: 0.4em;background-color: white;}#sk-container-id-1 div.sk-label label {font-family: monospace;font-weight: bold;display: inline-block;line-height: 1.2em;}#sk-container-id-1 div.sk-label-container {text-align: center;}#sk-container-id-1 div.sk-container {/* jupyter's `normalize.less` sets `[hidden] { display: none; }` but bootstrap.min.css set `[hidden] { display: none !important; }` so we also need the `!important` here to be able to override the default hidden behavior on the sphinx rendered scikit-learn.org. See: https://github.com/scikit-learn/scikit-learn/issues/21755 */display: inline-block !important;position: relative;}#sk-container-id-1 div.sk-text-repr-fallback {display: none;}</style><div id=\"sk-container-id-1\" class=\"sk-top-container\"><div class=\"sk-text-repr-fallback\"><pre>Pipeline(steps=[(&#x27;scaler&#x27;, StandardScaler()),\n",
       "                (&#x27;lasso&#x27;,\n",
       "                 LogisticRegression(C=1, max_iter=1000, penalty=&#x27;l1&#x27;,\n",
       "                                    solver=&#x27;saga&#x27;))])</pre><b>In a Jupyter environment, please rerun this cell to show the HTML representation or trust the notebook. <br />On GitHub, the HTML representation is unable to render, please try loading this page with nbviewer.org.</b></div><div class=\"sk-container\" hidden><div class=\"sk-item sk-dashed-wrapped\"><div class=\"sk-label-container\"><div class=\"sk-label sk-toggleable\"><input class=\"sk-toggleable__control sk-hidden--visually\" id=\"sk-estimator-id-1\" type=\"checkbox\" ><label for=\"sk-estimator-id-1\" class=\"sk-toggleable__label sk-toggleable__label-arrow\">Pipeline</label><div class=\"sk-toggleable__content\"><pre>Pipeline(steps=[(&#x27;scaler&#x27;, StandardScaler()),\n",
       "                (&#x27;lasso&#x27;,\n",
       "                 LogisticRegression(C=1, max_iter=1000, penalty=&#x27;l1&#x27;,\n",
       "                                    solver=&#x27;saga&#x27;))])</pre></div></div></div><div class=\"sk-serial\"><div class=\"sk-item\"><div class=\"sk-estimator sk-toggleable\"><input class=\"sk-toggleable__control sk-hidden--visually\" id=\"sk-estimator-id-2\" type=\"checkbox\" ><label for=\"sk-estimator-id-2\" class=\"sk-toggleable__label sk-toggleable__label-arrow\">StandardScaler</label><div class=\"sk-toggleable__content\"><pre>StandardScaler()</pre></div></div></div><div class=\"sk-item\"><div class=\"sk-estimator sk-toggleable\"><input class=\"sk-toggleable__control sk-hidden--visually\" id=\"sk-estimator-id-3\" type=\"checkbox\" ><label for=\"sk-estimator-id-3\" class=\"sk-toggleable__label sk-toggleable__label-arrow\">LogisticRegression</label><div class=\"sk-toggleable__content\"><pre>LogisticRegression(C=1, max_iter=1000, penalty=&#x27;l1&#x27;, solver=&#x27;saga&#x27;)</pre></div></div></div></div></div></div></div>"
      ],
      "text/plain": [
       "Pipeline(steps=[('scaler', StandardScaler()),\n",
       "                ('lasso',\n",
       "                 LogisticRegression(C=1, max_iter=1000, penalty='l1',\n",
       "                                    solver='saga'))])"
      ]
     },
     "execution_count": 30,
     "metadata": {},
     "output_type": "execute_result"
    }
   ],
   "source": [
    "lasso = Pipeline([\n",
    "    ('scaler', StandardScaler()),\n",
    "    ('lasso', LogisticRegression(penalty='l1',\n",
    "                                solver='saga',\n",
    "                                C=1,\n",
    "                                max_iter=1000))\n",
    "])\n",
    "\n",
    "lasso.fit(X_train, y_train)"
   ]
  },
  {
   "cell_type": "code",
   "execution_count": 31,
   "id": "c1de2b11",
   "metadata": {},
   "outputs": [],
   "source": [
    "y_train_pred = lasso.predict(X_train)\n",
    "y_val_pred = lasso.predict(X_val)"
   ]
  },
  {
   "cell_type": "code",
   "execution_count": 32,
   "id": "4f08fcff",
   "metadata": {},
   "outputs": [
    {
     "name": "stdout",
     "output_type": "stream",
     "text": [
      "Train set evaluation:\n",
      "Accuracy: 0.5319465081723626\n",
      "              precision    recall  f1-score   support\n",
      "\n",
      "         0.0       0.52      0.25      0.33       963\n",
      "         1.0       0.54      0.79      0.64      1056\n",
      "\n",
      "    accuracy                           0.53      2019\n",
      "   macro avg       0.53      0.52      0.49      2019\n",
      "weighted avg       0.53      0.53      0.49      2019\n",
      "\n",
      "\n",
      "Validation set evaluation:\n",
      "Accuracy: 0.45617529880478086\n",
      "              precision    recall  f1-score   support\n",
      "\n",
      "         0.0       0.39      0.40      0.39       221\n",
      "         1.0       0.51      0.50      0.51       281\n",
      "\n",
      "    accuracy                           0.46       502\n",
      "   macro avg       0.45      0.45      0.45       502\n",
      "weighted avg       0.46      0.46      0.46       502\n",
      "\n"
     ]
    }
   ],
   "source": [
    "from sklearn.metrics import accuracy_score, classification_report\n",
    "\n",
    "print(\"Train set evaluation:\")\n",
    "print(\"Accuracy:\", accuracy_score(y_train, y_train_pred))\n",
    "print(classification_report(y_train, y_train_pred))\n",
    "\n",
    "print(\"\\nValidation set evaluation:\")\n",
    "print(\"Accuracy:\", accuracy_score(y_val, y_val_pred))\n",
    "print(classification_report(y_val, y_val_pred))"
   ]
  },
  {
   "cell_type": "code",
   "execution_count": 33,
   "id": "233ce46b",
   "metadata": {},
   "outputs": [
    {
     "name": "stdout",
     "output_type": "stream",
     "text": [
      "Feature selezionate: [0, 1, 6, 10, 11, 13, 14, 15, 16, 17, 18, 19]\n"
     ]
    }
   ],
   "source": [
    "feature_analyzer = lasso.named_steps['lasso']\n",
    "coefs = feature_analyzer.coef_[0]\n",
    "selected = [i for i, w in enumerate(coefs) if w != 0]\n",
    "\n",
    "print(\"Feature selezionate:\", selected)"
   ]
  },
  {
   "cell_type": "code",
   "execution_count": 35,
   "id": "7f43530b",
   "metadata": {},
   "outputs": [
    {
     "data": {
      "image/png": "[encoded data removed]",
      "text/plain": [
       "<Figure size 1000x500 with 1 Axes>"
      ]
     },
     "metadata": {},
     "output_type": "display_data"
    }
   ],
   "source": [
    "import matplotlib.pyplot as plt\n",
    "import numpy as np\n",
    "\n",
    "feature_names = X_train.columns if hasattr(X_train, 'columns') else [f\"f{i}\" for i in range(X_train.shape[1])]\n",
    "coefs = feature_analyzer.coef_[0]\n",
    "\n",
    "plt.figure(figsize=(10, 5))\n",
    "plt.bar(feature_names, coefs)\n",
    "plt.axhline(0, color='gray', linestyle='--')\n",
    "plt.xticks(rotation=90)\n",
    "plt.title(\"Importanza delle feature (coefficienti L1)\")\n",
    "plt.tight_layout()\n",
    "plt.show()"
   ]
  },
  {
   "cell_type": "markdown",
   "id": "53f68ebf",
   "metadata": {},
   "source": [
    "### Rebuilding with best features"
   ]
  },
  {
   "cell_type": "code",
   "execution_count": 36,
   "id": "a3e68dc9",
   "metadata": {},
   "outputs": [],
   "source": [
    "from sklearn.preprocessing import StandardScaler\n",
    "from sklearn.linear_model import LogisticRegression\n",
    "from sklearn.pipeline import Pipeline"
   ]
  },
  {
   "cell_type": "code",
   "execution_count": 37,
   "id": "b41c46b2",
   "metadata": {},
   "outputs": [],
   "source": [
    "def direction_momentum(df, horizons=[5, 10, 20, 60]):\n",
    "    new_df = df.copy()\n",
    "    for horizon in horizons:\n",
    "        name = f\"direction_mom_{horizon}\"\n",
    "        new_df[name] = new_df['direction'].rolling(horizon).sum() - (horizon/2)\n",
    "    return new_df"
   ]
  },
  {
   "cell_type": "code",
   "execution_count": 39,
   "id": "ded529d2",
   "metadata": {},
   "outputs": [],
   "source": [
    "apple = pd.read_csv(\"datasets/apple_2014-2024_fullSimpleFeatures.csv\")\n",
    "\n",
    "apple = apple.set_index(['date']).sort_index()\n",
    "apple = apple.dropna()\n",
    "apple.index = pd.to_datetime(apple.index)\n",
    "\n",
    "data = apple\n",
    "data['delta'] = data['Close'].diff()\n",
    "data['direction'] = (data['delta'] > 0).astype(int)\n",
    "data = direction_momentum(data)\n",
    "data['next_direction'] = data['direction'].shift(-1)\n",
    "data['last_close'] = data['Close'].shift(1)\n",
    "data = data.dropna()"
   ]
  },
  {
   "cell_type": "code",
   "execution_count": 40,
   "id": "1fd50d22",
   "metadata": {},
   "outputs": [],
   "source": [
    "# Preparing dataframe for the model\n",
    "lasso_target = data[['next_direction']]\n",
    "lasso_input = data[['direction','RSI_14', 'MACD', 'MACD_Signal',\n",
    "       'momentum_10', 'ATR_14', 'direction_mom_5', 'direction_mom_10',\n",
    "       'direction_mom_20', 'direction_mom_60']]\n",
    "\n",
    "X_train, X_val, y_train, y_val = uc.split_before_year(lasso_input, lasso_target, 2023)"
   ]
  },
  {
   "cell_type": "code",
   "execution_count": 41,
   "id": "b318be63",
   "metadata": {},
   "outputs": [],
   "source": [
    "lasso = Pipeline([\n",
    "    ('scaler', StandardScaler()),\n",
    "    ('lasso', LogisticRegression(penalty='l1',\n",
    "                                solver='saga',\n",
    "                                C=1,\n",
    "                                max_iter=1000))\n",
    "])\n",
    "\n",
    "lasso.fit(X_train, y_train)\n",
    "\n",
    "y_train_pred = lasso.predict(X_train)\n",
    "y_val_pred = lasso.predict(X_val)"
   ]
  },
  {
   "cell_type": "code",
   "execution_count": 42,
   "id": "c4b9ae21",
   "metadata": {},
   "outputs": [
    {
     "name": "stdout",
     "output_type": "stream",
     "text": [
      "Train set evaluation:\n",
      "Accuracy: 0.5289747399702823\n",
      "              precision    recall  f1-score   support\n",
      "\n",
      "         0.0       0.51      0.25      0.34       963\n",
      "         1.0       0.53      0.78      0.64      1056\n",
      "\n",
      "    accuracy                           0.53      2019\n",
      "   macro avg       0.52      0.52      0.49      2019\n",
      "weighted avg       0.52      0.53      0.49      2019\n",
      "\n",
      "\n",
      "Validation set evaluation:\n",
      "Accuracy: 0.45219123505976094\n",
      "              precision    recall  f1-score   support\n",
      "\n",
      "         0.0       0.40      0.47      0.43       221\n",
      "         1.0       0.51      0.44      0.47       281\n",
      "\n",
      "    accuracy                           0.45       502\n",
      "   macro avg       0.45      0.45      0.45       502\n",
      "weighted avg       0.46      0.45      0.45       502\n",
      "\n"
     ]
    }
   ],
   "source": [
    "from sklearn.metrics import accuracy_score, classification_report\n",
    "\n",
    "print(\"Train set evaluation:\")\n",
    "print(\"Accuracy:\", accuracy_score(y_train, y_train_pred))\n",
    "print(classification_report(y_train, y_train_pred))\n",
    "\n",
    "print(\"\\nValidation set evaluation:\")\n",
    "print(\"Accuracy:\", accuracy_score(y_val, y_val_pred))\n",
    "print(classification_report(y_val, y_val_pred))"
   ]
  },
  {
   "cell_type": "code",
   "execution_count": 44,
   "id": "6055e3ed",
   "metadata": {},
   "outputs": [
    {
     "name": "stdout",
     "output_type": "stream",
     "text": [
      "Feature selezionate: [0, 1, 2, 3, 4, 5, 6, 7, 8, 9]\n"
     ]
    }
   ],
   "source": [
    "feature_analyzer = lasso.named_steps['lasso']\n",
    "coefs = feature_analyzer.coef_[0]\n",
    "selected = [i for i, w in enumerate(coefs) if w != 0]\n",
    "\n",
    "print(\"Feature selezionate:\", selected)"
   ]
  },
  {
   "cell_type": "code",
   "execution_count": 45,
   "id": "62312041",
   "metadata": {},
   "outputs": [
    {
     "data": {
      "image/png": "[encoded data removed]",
      "text/plain": [
       "<Figure size 1000x500 with 1 Axes>"
      ]
     },
     "metadata": {},
     "output_type": "display_data"
    }
   ],
   "source": [
    "import matplotlib.pyplot as plt\n",
    "import numpy as np\n",
    "\n",
    "feature_names = X_train.columns if hasattr(X_train, 'columns') else [f\"f{i}\" for i in range(X_train.shape[1])]\n",
    "coefs = feature_analyzer.coef_[0]\n",
    "\n",
    "plt.figure(figsize=(10, 5))\n",
    "plt.bar(feature_names, coefs)\n",
    "plt.axhline(0, color='gray', linestyle='--')\n",
    "plt.xticks(rotation=90)\n",
    "plt.title(\"Importanza delle feature (coefficienti L1)\")\n",
    "plt.tight_layout()\n",
    "plt.show()"
   ]
  },
  {
   "cell_type": "code",
   "execution_count": 51,
   "id": "bfc19b78",
   "metadata": {},
   "outputs": [],
   "source": [
    "# Trying a random forest model with chosen features\n",
    "from sklearn.ensemble import RandomForestClassifier\n",
    "rfc = RandomForestClassifier(\n",
    "    n_estimators=5000,\n",
    "    min_samples_split=5,\n",
    "    min_samples_leaf=5,\n",
    "    max_features=0.8,\n",
    "    max_depth=None,\n",
    "    random_state=42\n",
    ")\n",
    "\n",
    "rfc.fit(X_train, y_train)\n",
    "\n",
    "y_train_pred = rfc.predict(X_train)\n",
    "y_val_pred = rfc.predict(X_val)"
   ]
  },
  {
   "cell_type": "code",
   "execution_count": 52,
   "id": "2d70e7e5",
   "metadata": {},
   "outputs": [
    {
     "name": "stdout",
     "output_type": "stream",
     "text": [
      "Train set evaluation:\n",
      "Accuracy: 0.9683011391778108\n",
      "              precision    recall  f1-score   support\n",
      "\n",
      "         0.0       0.97      0.96      0.97       963\n",
      "         1.0       0.96      0.98      0.97      1056\n",
      "\n",
      "    accuracy                           0.97      2019\n",
      "   macro avg       0.97      0.97      0.97      2019\n",
      "weighted avg       0.97      0.97      0.97      2019\n",
      "\n",
      "\n",
      "Validation set evaluation:\n",
      "Accuracy: 0.4701195219123506\n",
      "              precision    recall  f1-score   support\n",
      "\n",
      "         0.0       0.42      0.50      0.45       221\n",
      "         1.0       0.53      0.45      0.49       281\n",
      "\n",
      "    accuracy                           0.47       502\n",
      "   macro avg       0.47      0.47      0.47       502\n",
      "weighted avg       0.48      0.47      0.47       502\n",
      "\n"
     ]
    }
   ],
   "source": [
    "print(\"Train set evaluation:\")\n",
    "print(\"Accuracy:\", accuracy_score(y_train, y_train_pred))\n",
    "print(classification_report(y_train, y_train_pred))\n",
    "\n",
    "print(\"\\nValidation set evaluation:\")\n",
    "print(\"Accuracy:\", accuracy_score(y_val, y_val_pred))\n",
    "print(classification_report(y_val, y_val_pred))"
   ]
  },
  {
   "cell_type": "markdown",
   "id": "cda39b7b",
   "metadata": {},
   "source": [
    "### Trying best features with LSTM -> Better than expected"
   ]
  },
  {
   "cell_type": "code",
   "execution_count": 110,
   "id": "a5a98331",
   "metadata": {},
   "outputs": [],
   "source": [
    "from sklearn.preprocessing import RobustScaler\n",
    "\n",
    "lstm_input = lasso_input\n",
    "lstm_target = lasso_target\n",
    "\n",
    "input_scaler = RobustScaler()\n",
    "scaled_input = input_scaler.fit_transform(lstm_input)\n",
    "\n",
    "X_train, X_val, y_train, y_val, input_size, train_size = mlu.train_test_split_timeWindows(scaled_input,\n",
    "                                                                                          lstm_target.values,\n",
    "                                                                                          window_size=5,\n",
    "                                                                                          train_size_pct=0.9)"
   ]
  },
  {
   "cell_type": "code",
   "execution_count": 111,
   "id": "6daf3c6e",
   "metadata": {},
   "outputs": [],
   "source": [
    "window_size = 10\n",
    "lstm_units = [150, 100, 50]\n",
    "dense_units = [50, 25]\n",
    "dropout = 0\n",
    "\n",
    "epochs = 50\n",
    "batch_size = 16\n",
    "set_early_stopping = True"
   ]
  },
  {
   "cell_type": "code",
   "execution_count": 112,
   "id": "cc02ab52",
   "metadata": {},
   "outputs": [],
   "source": [
    "import ml_utils as mlu\n",
    "import tensorflow as tf\n",
    "from tensorflow.keras.models import Sequential # type: ignore\n",
    "from tensorflow.keras.layers import LSTM, Dense, Dropout, Input # type: ignore\n",
    "from tensorflow.keras.callbacks import EarlyStopping # type: ignore\n",
    "import warnings\n",
    "warnings.filterwarnings('ignore')\n",
    "\n",
    "early_stopping = EarlyStopping(\n",
    "    monitor='val_accuracy',\n",
    "    mode='max',\n",
    "    patience=20,\n",
    "    restore_best_weights=True    \n",
    ")\n",
    "\n",
    "lstm_model = Sequential()\n",
    "lstm_model.add(Input(shape=input_size))\n",
    "lstm_model.add(LSTM(units=lstm_units[0], return_sequences=True))\n",
    "for u in lstm_units[1:]:\n",
    "            rs = (u != lstm_units[-1]) #return_sequences is False in the last LSTM layer.\n",
    "            lstm_model.add(LSTM(units=u, return_sequences=rs))\n",
    "for d in dense_units:\n",
    "            lstm_model.add(Dense(units=d, activation='relu'))\n",
    "lstm_model.add(Dense(units=1, activation='sigmoid'))\n",
    "\n",
    "lstm_model.compile(optimizer='adam', loss='binary_crossentropy', metrics=['accuracy'])\n"
   ]
  },
  {
   "cell_type": "code",
   "execution_count": 113,
   "id": "e5e13967",
   "metadata": {},
   "outputs": [
    {
     "name": "stdout",
     "output_type": "stream",
     "text": [
      "Epoch 1/50\n"
     ]
    },
    {
     "name": "stdout",
     "output_type": "stream",
     "text": [
      "\u001b[1m142/142\u001b[0m \u001b[32m━━━━━━━━━━━━━━━━━━━━\u001b[0m\u001b[37m\u001b[0m \u001b[1m10s\u001b[0m 16ms/step - accuracy: 0.5033 - loss: 0.6948 - val_accuracy: 0.5317 - val_loss: 0.6920\n",
      "Epoch 2/50\n",
      "\u001b[1m142/142\u001b[0m \u001b[32m━━━━━━━━━━━━━━━━━━━━\u001b[0m\u001b[37m\u001b[0m \u001b[1m2s\u001b[0m 11ms/step - accuracy: 0.5246 - loss: 0.6925 - val_accuracy: 0.4524 - val_loss: 0.6974\n",
      "Epoch 3/50\n",
      "\u001b[1m142/142\u001b[0m \u001b[32m━━━━━━━━━━━━━━━━━━━━\u001b[0m\u001b[37m\u001b[0m \u001b[1m2s\u001b[0m 11ms/step - accuracy: 0.5253 - loss: 0.6911 - val_accuracy: 0.5675 - val_loss: 0.6876\n",
      "Epoch 4/50\n",
      "\u001b[1m142/142\u001b[0m \u001b[32m━━━━━━━━━━━━━━━━━━━━\u001b[0m\u001b[37m\u001b[0m \u001b[1m2s\u001b[0m 11ms/step - accuracy: 0.5474 - loss: 0.6893 - val_accuracy: 0.5159 - val_loss: 0.6933\n",
      "Epoch 5/50\n",
      "\u001b[1m142/142\u001b[0m \u001b[32m━━━━━━━━━━━━━━━━━━━━\u001b[0m\u001b[37m\u001b[0m \u001b[1m2s\u001b[0m 11ms/step - accuracy: 0.5286 - loss: 0.6912 - val_accuracy: 0.4683 - val_loss: 0.6978\n",
      "Epoch 6/50\n",
      "\u001b[1m142/142\u001b[0m \u001b[32m━━━━━━━━━━━━━━━━━━━━\u001b[0m\u001b[37m\u001b[0m \u001b[1m2s\u001b[0m 11ms/step - accuracy: 0.5305 - loss: 0.6904 - val_accuracy: 0.4444 - val_loss: 0.7001\n",
      "Epoch 7/50\n",
      "\u001b[1m142/142\u001b[0m \u001b[32m━━━━━━━━━━━━━━━━━━━━\u001b[0m\u001b[37m\u001b[0m \u001b[1m2s\u001b[0m 11ms/step - accuracy: 0.5097 - loss: 0.6939 - val_accuracy: 0.4405 - val_loss: 0.6997\n",
      "Epoch 8/50\n",
      "\u001b[1m142/142\u001b[0m \u001b[32m━━━━━━━━━━━━━━━━━━━━\u001b[0m\u001b[37m\u001b[0m \u001b[1m2s\u001b[0m 12ms/step - accuracy: 0.5342 - loss: 0.6893 - val_accuracy: 0.5000 - val_loss: 0.6941\n",
      "Epoch 9/50\n",
      "\u001b[1m142/142\u001b[0m \u001b[32m━━━━━━━━━━━━━━━━━━━━\u001b[0m\u001b[37m\u001b[0m \u001b[1m2s\u001b[0m 10ms/step - accuracy: 0.5181 - loss: 0.6913 - val_accuracy: 0.4405 - val_loss: 0.6971\n",
      "Epoch 10/50\n",
      "\u001b[1m142/142\u001b[0m \u001b[32m━━━━━━━━━━━━━━━━━━━━\u001b[0m\u001b[37m\u001b[0m \u001b[1m2s\u001b[0m 12ms/step - accuracy: 0.5287 - loss: 0.6904 - val_accuracy: 0.4405 - val_loss: 0.7005\n",
      "Epoch 11/50\n",
      "\u001b[1m142/142\u001b[0m \u001b[32m━━━━━━━━━━━━━━━━━━━━\u001b[0m\u001b[37m\u001b[0m \u001b[1m2s\u001b[0m 11ms/step - accuracy: 0.5567 - loss: 0.6888 - val_accuracy: 0.5397 - val_loss: 0.6936\n",
      "Epoch 12/50\n",
      "\u001b[1m142/142\u001b[0m \u001b[32m━━━━━━━━━━━━━━━━━━━━\u001b[0m\u001b[37m\u001b[0m \u001b[1m2s\u001b[0m 12ms/step - accuracy: 0.5530 - loss: 0.6871 - val_accuracy: 0.5635 - val_loss: 0.6947\n",
      "Epoch 13/50\n",
      "\u001b[1m142/142\u001b[0m \u001b[32m━━━━━━━━━━━━━━━━━━━━\u001b[0m\u001b[37m\u001b[0m \u001b[1m2s\u001b[0m 12ms/step - accuracy: 0.5313 - loss: 0.6874 - val_accuracy: 0.4802 - val_loss: 0.6954\n",
      "Epoch 14/50\n",
      "\u001b[1m142/142\u001b[0m \u001b[32m━━━━━━━━━━━━━━━━━━━━\u001b[0m\u001b[37m\u001b[0m \u001b[1m2s\u001b[0m 11ms/step - accuracy: 0.5090 - loss: 0.6857 - val_accuracy: 0.5635 - val_loss: 0.6939\n",
      "Epoch 15/50\n",
      "\u001b[1m142/142\u001b[0m \u001b[32m━━━━━━━━━━━━━━━━━━━━\u001b[0m\u001b[37m\u001b[0m \u001b[1m2s\u001b[0m 11ms/step - accuracy: 0.5458 - loss: 0.6832 - val_accuracy: 0.4365 - val_loss: 0.6965\n",
      "Epoch 16/50\n",
      "\u001b[1m142/142\u001b[0m \u001b[32m━━━━━━━━━━━━━━━━━━━━\u001b[0m\u001b[37m\u001b[0m \u001b[1m2s\u001b[0m 11ms/step - accuracy: 0.5431 - loss: 0.6845 - val_accuracy: 0.4325 - val_loss: 0.7069\n",
      "Epoch 17/50\n",
      "\u001b[1m142/142\u001b[0m \u001b[32m━━━━━━━━━━━━━━━━━━━━\u001b[0m\u001b[37m\u001b[0m \u001b[1m2s\u001b[0m 11ms/step - accuracy: 0.5370 - loss: 0.6824 - val_accuracy: 0.4484 - val_loss: 0.7006\n",
      "Epoch 18/50\n",
      "\u001b[1m142/142\u001b[0m \u001b[32m━━━━━━━━━━━━━━━━━━━━\u001b[0m\u001b[37m\u001b[0m \u001b[1m2s\u001b[0m 12ms/step - accuracy: 0.5567 - loss: 0.6857 - val_accuracy: 0.4286 - val_loss: 0.7018\n",
      "Epoch 19/50\n",
      "\u001b[1m142/142\u001b[0m \u001b[32m━━━━━━━━━━━━━━━━━━━━\u001b[0m\u001b[37m\u001b[0m \u001b[1m2s\u001b[0m 11ms/step - accuracy: 0.5629 - loss: 0.6818 - val_accuracy: 0.4563 - val_loss: 0.7032\n",
      "Epoch 20/50\n",
      "\u001b[1m142/142\u001b[0m \u001b[32m━━━━━━━━━━━━━━━━━━━━\u001b[0m\u001b[37m\u001b[0m \u001b[1m2s\u001b[0m 11ms/step - accuracy: 0.5628 - loss: 0.6752 - val_accuracy: 0.5278 - val_loss: 0.6933\n",
      "Epoch 21/50\n",
      "\u001b[1m142/142\u001b[0m \u001b[32m━━━━━━━━━━━━━━━━━━━━\u001b[0m\u001b[37m\u001b[0m \u001b[1m2s\u001b[0m 11ms/step - accuracy: 0.5495 - loss: 0.6879 - val_accuracy: 0.4365 - val_loss: 0.7084\n",
      "Epoch 22/50\n",
      "\u001b[1m142/142\u001b[0m \u001b[32m━━━━━━━━━━━━━━━━━━━━\u001b[0m\u001b[37m\u001b[0m \u001b[1m2s\u001b[0m 12ms/step - accuracy: 0.5628 - loss: 0.6776 - val_accuracy: 0.4563 - val_loss: 0.7013\n",
      "Epoch 23/50\n",
      "\u001b[1m142/142\u001b[0m \u001b[32m━━━━━━━━━━━━━━━━━━━━\u001b[0m\u001b[37m\u001b[0m \u001b[1m2s\u001b[0m 11ms/step - accuracy: 0.5593 - loss: 0.6762 - val_accuracy: 0.4325 - val_loss: 0.7033\n"
     ]
    },
    {
     "data": {
      "text/plain": [
       "<keras.src.callbacks.history.History at 0x1c026e9b190>"
      ]
     },
     "execution_count": 113,
     "metadata": {},
     "output_type": "execute_result"
    }
   ],
   "source": [
    "lstm_model.fit(X_train, y_train,\n",
    "               epochs=epochs,\n",
    "               batch_size=batch_size,\n",
    "               validation_data=(X_val, y_val),\n",
    "               callbacks=[early_stopping])"
   ]
  },
  {
   "cell_type": "code",
   "execution_count": 114,
   "id": "670aacd0",
   "metadata": {},
   "outputs": [
    {
     "name": "stdout",
     "output_type": "stream",
     "text": [
      "\u001b[1m71/71\u001b[0m \u001b[32m━━━━━━━━━━━━━━━━━━━━\u001b[0m\u001b[37m\u001b[0m \u001b[1m1s\u001b[0m 14ms/step\n",
      "\u001b[1m8/8\u001b[0m \u001b[32m━━━━━━━━━━━━━━━━━━━━\u001b[0m\u001b[37m\u001b[0m \u001b[1m0s\u001b[0m 8ms/step \n",
      "Train set evaluation:\n",
      "Accuracy: 0.5167844522968198\n",
      "              precision    recall  f1-score   support\n",
      "\n",
      "         0.0       0.46      0.13      0.20      1070\n",
      "         1.0       0.53      0.87      0.65      1194\n",
      "\n",
      "    accuracy                           0.52      2264\n",
      "   macro avg       0.49      0.50      0.43      2264\n",
      "weighted avg       0.49      0.52      0.44      2264\n",
      "\n",
      "\n",
      "Validation set evaluation:\n",
      "Accuracy: 0.5674603174603174\n",
      "              precision    recall  f1-score   support\n",
      "\n",
      "         0.0       0.54      0.06      0.11       110\n",
      "         1.0       0.57      0.96      0.71       142\n",
      "\n",
      "    accuracy                           0.57       252\n",
      "   macro avg       0.55      0.51      0.41       252\n",
      "weighted avg       0.56      0.57      0.45       252\n",
      "\n"
     ]
    }
   ],
   "source": [
    "y_train_pred = (lstm_model.predict(X_train) >= 0.5).astype(int)\n",
    "y_val_pred = (lstm_model.predict(X_val) >= 0.5).astype(int)\n",
    "\n",
    "print(\"Train set evaluation:\")\n",
    "print(\"Accuracy:\", accuracy_score(y_train, y_train_pred))\n",
    "print(classification_report(y_train, y_train_pred))\n",
    "\n",
    "print(\"\\nValidation set evaluation:\")\n",
    "print(\"Accuracy:\", accuracy_score(y_val, y_val_pred))\n",
    "print(classification_report(y_val, y_val_pred))"
   ]
  },
  {
   "cell_type": "code",
   "execution_count": null,
   "id": "7ba9d002",
   "metadata": {},
   "outputs": [],
   "source": []
  }
 ],
 "metadata": {
  "kernelspec": {
   "display_name": "base",
   "language": "python",
   "name": "python3"
  },
  "language_info": {
   "codemirror_mode": {
    "name": "ipython",
    "version": 3
   },
   "file_extension": ".py",
   "mimetype": "text/x-python",
   "name": "python",
   "nbconvert_exporter": "python",
   "pygments_lexer": "ipython3",
   "version": "3.11.5"
  }
 },
 "nbformat": 4,
 "nbformat_minor": 5
}
